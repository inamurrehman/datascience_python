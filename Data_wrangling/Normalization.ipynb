{
 "cells": [
  {
   "cell_type": "code",
   "execution_count": 5,
   "metadata": {},
   "outputs": [
    {
     "data": {
      "text/plain": [
       "ShapiroResult(statistic=0.9380982518196106, pvalue=0.6216546297073364)"
      ]
     },
     "execution_count": 5,
     "metadata": {},
     "output_type": "execute_result"
    }
   ],
   "source": [
    "import numpy as np\n",
    "from scipy.stats import shapiro\n",
    "data= [0.567, 0.435, -0.456, 0.987, -0.234, 0.678, -0.112]\n",
    "shapiro(data)"
   ]
  },
  {
   "cell_type": "code",
   "execution_count": 6,
   "metadata": {},
   "outputs": [
    {
     "name": "stdout",
     "output_type": "stream",
     "text": [
      "stat = 0.938, p = 0.622\n",
      "The data is noraml\n"
     ]
    }
   ],
   "source": [
    "from scipy.stats import shapiro\n",
    "data= [0.567, 0.435, -0.456, 0.987, -0.234, 0.678, -0.112]\n",
    "stat, p=shapiro(data)\n",
    "print('stat = %.3f, p = %.3f' % (stat, p))\n",
    "if p>0.05:\n",
    "    print('The data is noraml')\n",
    "else:\n",
    "    print('The data is not noraml')\n"
   ]
  },
  {
   "cell_type": "code",
   "execution_count": 20,
   "metadata": {},
   "outputs": [
    {
     "name": "stderr",
     "output_type": "stream",
     "text": [
      "D:\\anaconda1\\lib\\site-packages\\seaborn\\_decorators.py:36: FutureWarning: Pass the following variable as a keyword arg: x. From version 0.12, the only valid positional argument will be `data`, and passing other arguments without an explicit keyword will result in an error or misinterpretation.\n",
      "  warnings.warn(\n"
     ]
    },
    {
     "data": {
      "text/html": [
       "<div>\n",
       "<style scoped>\n",
       "    .dataframe tbody tr th:only-of-type {\n",
       "        vertical-align: middle;\n",
       "    }\n",
       "\n",
       "    .dataframe tbody tr th {\n",
       "        vertical-align: top;\n",
       "    }\n",
       "\n",
       "    .dataframe thead th {\n",
       "        text-align: right;\n",
       "    }\n",
       "</style>\n",
       "<table border=\"1\" class=\"dataframe\">\n",
       "  <thead>\n",
       "    <tr style=\"text-align: right;\">\n",
       "      <th></th>\n",
       "      <th>AHIPC</th>\n",
       "      <th>Aspine</th>\n",
       "      <th>AHIPR</th>\n",
       "      <th>AER</th>\n",
       "      <th>AWR</th>\n",
       "      <th>AHR</th>\n",
       "      <th>Gender</th>\n",
       "    </tr>\n",
       "  </thead>\n",
       "  <tbody>\n",
       "    <tr>\n",
       "      <th>0</th>\n",
       "      <td>1.074197</td>\n",
       "      <td>1.104815</td>\n",
       "      <td>1.058009</td>\n",
       "      <td>1.086524</td>\n",
       "      <td>0.983399</td>\n",
       "      <td>0.955172</td>\n",
       "      <td>1</td>\n",
       "    </tr>\n",
       "    <tr>\n",
       "      <th>1</th>\n",
       "      <td>0.941238</td>\n",
       "      <td>0.974563</td>\n",
       "      <td>0.928442</td>\n",
       "      <td>0.947999</td>\n",
       "      <td>0.828988</td>\n",
       "      <td>0.801955</td>\n",
       "      <td>1</td>\n",
       "    </tr>\n",
       "    <tr>\n",
       "      <th>2</th>\n",
       "      <td>1.115748</td>\n",
       "      <td>1.148227</td>\n",
       "      <td>1.095521</td>\n",
       "      <td>1.138274</td>\n",
       "      <td>1.045892</td>\n",
       "      <td>1.017264</td>\n",
       "      <td>1</td>\n",
       "    </tr>\n",
       "    <tr>\n",
       "      <th>3</th>\n",
       "      <td>0.941148</td>\n",
       "      <td>0.990126</td>\n",
       "      <td>0.920284</td>\n",
       "      <td>0.945852</td>\n",
       "      <td>0.842392</td>\n",
       "      <td>0.817208</td>\n",
       "      <td>1</td>\n",
       "    </tr>\n",
       "    <tr>\n",
       "      <th>4</th>\n",
       "      <td>0.943126</td>\n",
       "      <td>0.971330</td>\n",
       "      <td>0.920808</td>\n",
       "      <td>0.952584</td>\n",
       "      <td>0.855468</td>\n",
       "      <td>0.828205</td>\n",
       "      <td>1</td>\n",
       "    </tr>\n",
       "  </tbody>\n",
       "</table>\n",
       "</div>"
      ],
      "text/plain": [
       "      AHIPC    Aspine     AHIPR       AER       AWR       AHR  Gender\n",
       "0  1.074197  1.104815  1.058009  1.086524  0.983399  0.955172       1\n",
       "1  0.941238  0.974563  0.928442  0.947999  0.828988  0.801955       1\n",
       "2  1.115748  1.148227  1.095521  1.138274  1.045892  1.017264       1\n",
       "3  0.941148  0.990126  0.920284  0.945852  0.842392  0.817208       1\n",
       "4  0.943126  0.971330  0.920808  0.952584  0.855468  0.828205       1"
      ]
     },
     "execution_count": 20,
     "metadata": {},
     "output_type": "execute_result"
    },
    {
     "data": {
      "image/png": "[encoded data removed]",
      "text/plain": [
       "<Figure size 432x288 with 1 Axes>"
      ]
     },
     "metadata": {
      "needs_background": "light"
     },
     "output_type": "display_data"
    }
   ],
   "source": [
    "import pandas as pd\n",
    "import numpy as np\n",
    "import matplotlib.pyplot as plt\n",
    "import seaborn as sns\n",
    "\n",
    "joints= pd.read_csv('jointdata.csv')\n",
    "\n",
    "sns.boxplot(joints['AER'])\n",
    "joints.head()"
   ]
  },
  {
   "cell_type": "code",
   "execution_count": 17,
   "metadata": {},
   "outputs": [
    {
     "name": "stderr",
     "output_type": "stream",
     "text": [
      "D:\\anaconda1\\lib\\site-packages\\seaborn\\_decorators.py:36: FutureWarning: Pass the following variable as a keyword arg: x. From version 0.12, the only valid positional argument will be `data`, and passing other arguments without an explicit keyword will result in an error or misinterpretation.\n",
      "  warnings.warn(\n"
     ]
    },
    {
     "data": {
      "text/plain": [
       "<AxesSubplot:xlabel='age'>"
      ]
     },
     "execution_count": 17,
     "metadata": {},
     "output_type": "execute_result"
    },
    {
     "data": {
      "image/png": "[encoded data removed]",
      "text/plain": [
       "<Figure size 432x288 with 1 Axes>"
      ]
     },
     "metadata": {
      "needs_background": "light"
     },
     "output_type": "display_data"
    }
   ],
   "source": [
    "import pandas as pd\n",
    "import numpy as np\n",
    "import matplotlib.pyplot as plt\n",
    "import seaborn as sns\n",
    "\n",
    "kashti= sns.load_dataset('titanic')\n",
    "kashti['age'].hist()\n",
    "sns.boxplot(kashti['age'])"
   ]
  },
  {
   "cell_type": "code",
   "execution_count": 18,
   "metadata": {},
   "outputs": [
    {
     "name": "stderr",
     "output_type": "stream",
     "text": [
      "D:\\anaconda1\\lib\\site-packages\\seaborn\\_decorators.py:36: FutureWarning: Pass the following variable as a keyword arg: x. From version 0.12, the only valid positional argument will be `data`, and passing other arguments without an explicit keyword will result in an error or misinterpretation.\n",
      "  warnings.warn(\n"
     ]
    },
    {
     "data": {
      "text/plain": [
       "<AxesSubplot:xlabel='fare'>"
      ]
     },
     "execution_count": 18,
     "metadata": {},
     "output_type": "execute_result"
    },
    {
     "data": {
      "image/png": "[encoded data removed]",
      "text/plain": [
       "<Figure size 432x288 with 1 Axes>"
      ]
     },
     "metadata": {
      "needs_background": "light"
     },
     "output_type": "display_data"
    }
   ],
   "source": [
    "kashti1= sns.load_dataset('titanic')\n",
    "#kashti['fare'].hist()\n",
    "sns.boxplot(kashti1['fare'])"
   ]
  },
  {
   "cell_type": "code",
   "execution_count": null,
   "metadata": {},
   "outputs": [],
   "source": [
    "kashti1.head(20)"
   ]
  },
  {
   "cell_type": "code",
   "execution_count": 23,
   "metadata": {},
   "outputs": [
    {
     "name": "stderr",
     "output_type": "stream",
     "text": [
      "D:\\anaconda1\\lib\\site-packages\\seaborn\\_decorators.py:36: FutureWarning: Pass the following variable as a keyword arg: x. From version 0.12, the only valid positional argument will be `data`, and passing other arguments without an explicit keyword will result in an error or misinterpretation.\n",
      "  warnings.warn(\n"
     ]
    },
    {
     "data": {
      "text/plain": [
       "<AxesSubplot:xlabel='fare'>"
      ]
     },
     "execution_count": 23,
     "metadata": {},
     "output_type": "execute_result"
    },
    {
     "data": {
      "image/png": "[encoded data removed]",
      "text/plain": [
       "<Figure size 432x288 with 1 Axes>"
      ]
     },
     "metadata": {
      "needs_background": "light"
     },
     "output_type": "display_data"
    }
   ],
   "source": [
    "kashti1= kashti1[kashti1[\"fare\"]<50]\n",
    "sns.boxplot(kashti1['fare'])"
   ]
  },
  {
   "cell_type": "code",
   "execution_count": 24,
   "metadata": {},
   "outputs": [
    {
     "name": "stdout",
     "output_type": "stream",
     "text": [
      "stat = 0.850, p = 0.000\n",
      "The data is not noraml\n"
     ]
    }
   ],
   "source": [
    "from scipy.stats import shapiro\n",
    "stat, p =shapiro(kashti1['fare'])\n",
    "print('stat = %.3f, p = %.3f' % (stat, p))\n",
    "if p > 0.05:\n",
    "    print('The data is noraml')\n",
    "else:\n",
    "    print('The data is not noraml')"
   ]
  },
  {
   "cell_type": "code",
   "execution_count": 26,
   "metadata": {},
   "outputs": [
    {
     "data": {
      "text/plain": [
       "<AxesSubplot:>"
      ]
     },
     "execution_count": 26,
     "metadata": {},
     "output_type": "execute_result"
    },
    {
     "data": {
      "image/png": "[encoded data removed]",
      "text/plain": [
       "<Figure size 432x288 with 1 Axes>"
      ]
     },
     "metadata": {
      "needs_background": "light"
     },
     "output_type": "display_data"
    }
   ],
   "source": [
    "kashti1 = kashti1.dropna()\n",
    "kashti1['fare'].hist()"
   ]
  },
  {
   "cell_type": "code",
   "execution_count": 27,
   "metadata": {},
   "outputs": [
    {
     "name": "stdout",
     "output_type": "stream",
     "text": [
      "stat = 0.943, p = 0.003\n",
      "Probably not noraml distribution\n"
     ]
    }
   ],
   "source": [
    "# Normality test\n",
    "from scipy.stats import shapiro\n",
    "#kashti1 = kashti1.dropna()\n",
    "\n",
    "stat, p = shapiro(kashti1['fare'])\n",
    "print('stat = %.3f, p = %.3f' % (stat, p))\n",
    "if p>0.05:\n",
    "    print('Probably noraml distribution')\n",
    "else:\n",
    "    print('Probably not noraml distribution')"
   ]
  },
  {
   "cell_type": "code",
   "execution_count": 14,
   "metadata": {},
   "outputs": [
    {
     "name": "stdout",
     "output_type": "stream",
     "text": [
      "stat = nan, p = 1.000\n",
      "The data is noraml\n"
     ]
    }
   ],
   "source": [
    "from scipy.stats import shapiro\n",
    "stat, p =shapiro(kashti['age'])\n",
    "print('stat = %.3f, p = %.3f' % (stat, p))\n",
    "if p>0.05:\n",
    "    print('The data is noraml')\n",
    "else:\n",
    "    print('The data is not noraml')"
   ]
  },
  {
   "cell_type": "code",
   "execution_count": 15,
   "metadata": {},
   "outputs": [
    {
     "name": "stdout",
     "output_type": "stream",
     "text": [
      "stat = 0.991, p = 0.284\n",
      "Probably noraml distribution\n"
     ]
    }
   ],
   "source": [
    "# Normality test\n",
    "from scipy.stats import shapiro\n",
    "kashti= kashti.dropna()\n",
    "stat, p =shapiro(kashti['age'])\n",
    "print('stat = %.3f, p = %.3f' % (stat, p))\n",
    "if p>0.05:\n",
    "    print('Probably noraml distribution')\n",
    "else:\n",
    "    print('Probably not noraml distribution')"
   ]
  },
  {
   "cell_type": "code",
   "execution_count": 16,
   "metadata": {},
   "outputs": [
    {
     "name": "stdout",
     "output_type": "stream",
     "text": [
      "stat = 0.991, p = 0.284\n",
      "Probably noraml distribution\n"
     ]
    },
    {
     "name": "stderr",
     "output_type": "stream",
     "text": [
      "D:\\anaconda1\\lib\\site-packages\\seaborn\\_decorators.py:36: FutureWarning: Pass the following variable as a keyword arg: x. From version 0.12, the only valid positional argument will be `data`, and passing other arguments without an explicit keyword will result in an error or misinterpretation.\n",
      "  warnings.warn(\n"
     ]
    },
    {
     "data": {
      "image/png": "[encoded data removed]",
      "text/plain": [
       "<Figure size 432x288 with 1 Axes>"
      ]
     },
     "metadata": {
      "needs_background": "light"
     },
     "output_type": "display_data"
    }
   ],
   "source": [
    "from scipy.stats import shapiro\n",
    "stat, p =shapiro(kashti['age'])\n",
    "sns.boxplot(kashti['age'])\n",
    "print('stat = %.3f, p = %.3f' % (stat, p))\n",
    "if p>0.05:\n",
    "    print('Probably noraml distribution')\n",
    "else:\n",
    "    print('Probably not noraml distribution')"
   ]
  },
  {
   "cell_type": "markdown",
   "metadata": {},
   "source": [
    " # 2-Correlation Test\n",
    " ## Tests whether two samples have a linear relationship\n",
    " \n",
    " ## Assumptions\n",
    "\n",
    " . H0: The two samples are independent.\\\n",
    " . H1: There is a dependency between the samples.\n"
   ]
  },
  {
   "cell_type": "code",
   "execution_count": 12,
   "metadata": {},
   "outputs": [
    {
     "name": "stdout",
     "output_type": "stream",
     "text": [
      "stat=-0.029, p=0.945\n",
      "Probably independent ( no correlation)\n"
     ]
    }
   ],
   "source": [
    "from scipy.stats import pearsonr\n",
    "data1 = [0.876, 0.567, 0.432, -0.897, -0.352, 0.789, -0.030, 1.098]\n",
    "data2 = [2.567, 0.435, -6.456, 1.987, -3.234, 0.678, -0.112, -1.654]\n",
    "stat, p = pearsonr(data1, data2)\n",
    "print ('stat=%.3f, p=%.3f' % (stat, p))\n",
    "if p > 0.05:\n",
    "    print('Probably independent ( no correlation)')\n",
    "else:\n",
    "    print('Probably dependent (correlation exists)')\n"
   ]
  },
  {
   "cell_type": "markdown",
   "metadata": {},
   "source": [
    "# Spearman"
   ]
  },
  {
   "cell_type": "code",
   "execution_count": 13,
   "metadata": {},
   "outputs": [
    {
     "name": "stdout",
     "output_type": "stream",
     "text": [
      "stat=0.143, p=0.736\n",
      "Probably independent ( no correlation)\n"
     ]
    }
   ],
   "source": [
    "from scipy.stats import spearmanr\n",
    "data1 = [0.876, 0.567, 0.432, -0.897, -0.352, 0.789, -0.030, 1.098]\n",
    "data2 = [2.567, 0.435, -6.456, 1.987, -3.234, 0.678, -0.112, -1.654]\n",
    "stat, p = spearmanr(data1, data2)\n",
    "print ('stat=%.3f, p=%.3f' % (stat, p))\n",
    "if p > 0.05:\n",
    "    print('Probably independent ( no correlation)')\n",
    "else:\n",
    "    print('Probably dependent (correlation exists)')"
   ]
  },
  {
   "cell_type": "markdown",
   "metadata": {},
   "source": [
    "# 3-Chi-Squared Test"
   ]
  },
  {
   "cell_type": "code",
   "execution_count": 15,
   "metadata": {},
   "outputs": [
    {
     "name": "stdout",
     "output_type": "stream",
     "text": [
      "stat=0.213, p=0.899\n",
      "Probably independent ( no correlation)\n"
     ]
    }
   ],
   "source": [
    "from scipy.stats import chi2_contingency\n",
    "table= [[10,15,20],[5, 8, 13]]\n",
    "stat, p, dof, expected= chi2_contingency(table)\n",
    "print('stat=%.3f, p=%.3f' % (stat, p))\n",
    "if p > 0.05:\n",
    "    print('Probably independent ( no correlation)')\n",
    "else:\n",
    "    print('Probably dependent (correlation exists)')\n"
   ]
  },
  {
   "cell_type": "markdown",
   "metadata": {},
   "source": [
    "# Student's ttest "
   ]
  },
  {
   "cell_type": "code",
   "execution_count": 23,
   "metadata": {},
   "outputs": [
    {
     "name": "stdout",
     "output_type": "stream",
     "text": [
      "stat=3.498, p=0.001\n",
      "Probably different dataset\n"
     ]
    }
   ],
   "source": [
    "from scipy.stats import ttest_ind\n",
    "\n",
    "stat, p= ttest_ind(joints['AER'], joints['AWR'])\n",
    "print('stat=%.3f, p=%.3f' % (stat, p))\n",
    "if p > 0.05:\n",
    "    print('Probably the same dataset')\n",
    "else:\n",
    "    print('Probably different dataset')\n"
   ]
  },
  {
   "cell_type": "markdown",
   "metadata": {},
   "source": [
    "# 2-Paired student's t-test\n",
    "## Tests whether the means of two paired samples are significantly different."
   ]
  },
  {
   "cell_type": "code",
   "execution_count": 24,
   "metadata": {},
   "outputs": [
    {
     "name": "stdout",
     "output_type": "stream",
     "text": [
      "stat=55.599, p=0.000\n",
      "Probably different dataset\n"
     ]
    }
   ],
   "source": [
    "from scipy.stats import ttest_rel\n",
    "\n",
    "stat, p= ttest_rel(joints['AER'], joints['AWR'])\n",
    "print('stat=%.3f, p=%.3f' % (stat, p))\n",
    "if p > 0.05:\n",
    "    print('Probably the same dataset')\n",
    "else:\n",
    "    print('Probably different dataset')\n"
   ]
  },
  {
   "cell_type": "markdown",
   "metadata": {},
   "source": [
    "# 4- ANOVA\n",
    "## Tests wether the means of two or more independent samples are significantly different."
   ]
  },
  {
   "cell_type": "code",
   "execution_count": 27,
   "metadata": {},
   "outputs": [
    {
     "name": "stdout",
     "output_type": "stream",
     "text": [
      "stat=7.174, p=0.000\n",
      "Probably different datasets\n"
     ]
    }
   ],
   "source": [
    "from scipy.stats import f_oneway\n",
    "\n",
    "stat, p= f_oneway(joints['AER'], joints['Aspine'], joints['AHIPR'],joints['AWR'])\n",
    "print('stat=%.3f, p=%.3f' % (stat, p))\n",
    "if p > 0.05:\n",
    "    print('Probably the same datasets')\n",
    "else:\n",
    "    print('Probably different datasets')"
   ]
  },
  {
   "cell_type": "markdown",
   "metadata": {},
   "source": [
    "# Post-hoc test"
   ]
  },
  {
   "cell_type": "code",
   "execution_count": 25,
   "metadata": {},
   "outputs": [
    {
     "data": {
      "text/html": [
       "<div>\n",
       "<style scoped>\n",
       "    .dataframe tbody tr th:only-of-type {\n",
       "        vertical-align: middle;\n",
       "    }\n",
       "\n",
       "    .dataframe tbody tr th {\n",
       "        vertical-align: top;\n",
       "    }\n",
       "\n",
       "    .dataframe thead th {\n",
       "        text-align: right;\n",
       "    }\n",
       "</style>\n",
       "<table border=\"1\" class=\"dataframe\">\n",
       "  <thead>\n",
       "    <tr style=\"text-align: right;\">\n",
       "      <th></th>\n",
       "      <th>AHIPC</th>\n",
       "      <th>Aspine</th>\n",
       "      <th>AHIPR</th>\n",
       "      <th>AER</th>\n",
       "      <th>AWR</th>\n",
       "      <th>AHR</th>\n",
       "      <th>Gender</th>\n",
       "    </tr>\n",
       "  </thead>\n",
       "  <tbody>\n",
       "    <tr>\n",
       "      <th>0</th>\n",
       "      <td>1.074197</td>\n",
       "      <td>1.104815</td>\n",
       "      <td>1.058009</td>\n",
       "      <td>1.086524</td>\n",
       "      <td>0.983399</td>\n",
       "      <td>0.955172</td>\n",
       "      <td>1</td>\n",
       "    </tr>\n",
       "    <tr>\n",
       "      <th>1</th>\n",
       "      <td>0.941238</td>\n",
       "      <td>0.974563</td>\n",
       "      <td>0.928442</td>\n",
       "      <td>0.947999</td>\n",
       "      <td>0.828988</td>\n",
       "      <td>0.801955</td>\n",
       "      <td>1</td>\n",
       "    </tr>\n",
       "    <tr>\n",
       "      <th>2</th>\n",
       "      <td>1.115748</td>\n",
       "      <td>1.148227</td>\n",
       "      <td>1.095521</td>\n",
       "      <td>1.138274</td>\n",
       "      <td>1.045892</td>\n",
       "      <td>1.017264</td>\n",
       "      <td>1</td>\n",
       "    </tr>\n",
       "    <tr>\n",
       "      <th>3</th>\n",
       "      <td>0.941148</td>\n",
       "      <td>0.990126</td>\n",
       "      <td>0.920284</td>\n",
       "      <td>0.945852</td>\n",
       "      <td>0.842392</td>\n",
       "      <td>0.817208</td>\n",
       "      <td>1</td>\n",
       "    </tr>\n",
       "    <tr>\n",
       "      <th>4</th>\n",
       "      <td>0.943126</td>\n",
       "      <td>0.971330</td>\n",
       "      <td>0.920808</td>\n",
       "      <td>0.952584</td>\n",
       "      <td>0.855468</td>\n",
       "      <td>0.828205</td>\n",
       "      <td>1</td>\n",
       "    </tr>\n",
       "  </tbody>\n",
       "</table>\n",
       "</div>"
      ],
      "text/plain": [
       "      AHIPC    Aspine     AHIPR       AER       AWR       AHR  Gender\n",
       "0  1.074197  1.104815  1.058009  1.086524  0.983399  0.955172       1\n",
       "1  0.941238  0.974563  0.928442  0.947999  0.828988  0.801955       1\n",
       "2  1.115748  1.148227  1.095521  1.138274  1.045892  1.017264       1\n",
       "3  0.941148  0.990126  0.920284  0.945852  0.842392  0.817208       1\n",
       "4  0.943126  0.971330  0.920808  0.952584  0.855468  0.828205       1"
      ]
     },
     "execution_count": 25,
     "metadata": {},
     "output_type": "execute_result"
    }
   ],
   "source": [
    "joints.head()"
   ]
  }
 ],
 "metadata": {
  "interpreter": {
   "hash": "40867cd959d76660a67591d6360a2e3cab85dbbff168341d593f5ecae905257b"
  },
  "kernelspec": {
   "display_name": "Python 3.9.7 ('base')",
   "language": "python",
   "name": "python3"
  },
  "language_info": {
   "codemirror_mode": {
    "name": "ipython",
    "version": 3
   },
   "file_extension": ".py",
   "mimetype": "text/x-python",
   "name": "python",
   "nbconvert_exporter": "python",
   "pygments_lexer": "ipython3",
   "version": "3.9.7"
  },
  "orig_nbformat": 4
 },
 "nbformat": 4,
 "nbformat_minor": 2
}
