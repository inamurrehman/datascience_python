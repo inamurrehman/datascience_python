{
 "cells": [
  {
   "cell_type": "markdown",
   "id": "2ddd4297",
   "metadata": {},
   "source": [
    "## - Strings and indexing\n"
   ]
  },
  {
   "cell_type": "code",
   "execution_count": 1,
   "id": "4ec08fbd",
   "metadata": {},
   "outputs": [
    {
     "data": {
      "text/plain": [
       "'I am inam'"
      ]
     },
     "execution_count": 1,
     "metadata": {},
     "output_type": "execute_result"
    }
   ],
   "source": [
    "s1 = \"I am inam\"\n",
    "s1"
   ]
  },
  {
   "cell_type": "code",
   "execution_count": 2,
   "id": "564a3ab7",
   "metadata": {},
   "outputs": [
    {
     "data": {
      "text/plain": [
       "'m'"
      ]
     },
     "execution_count": 2,
     "metadata": {},
     "output_type": "execute_result"
    }
   ],
   "source": [
    "s1[3]"
   ]
  },
  {
   "cell_type": "code",
   "execution_count": 3,
   "id": "ab5cf550",
   "metadata": {},
   "outputs": [
    {
     "data": {
      "text/plain": [
       "9"
      ]
     },
     "execution_count": 3,
     "metadata": {},
     "output_type": "execute_result"
    }
   ],
   "source": [
    "len(s1)"
   ]
  },
  {
   "cell_type": "code",
   "execution_count": 4,
   "id": "4c4ae150",
   "metadata": {},
   "outputs": [
    {
     "data": {
      "text/plain": [
       "'I am'"
      ]
     },
     "execution_count": 4,
     "metadata": {},
     "output_type": "execute_result"
    }
   ],
   "source": [
    " s1[0:4]"
   ]
  },
  {
   "cell_type": "code",
   "execution_count": 5,
   "id": "fd0499d8",
   "metadata": {},
   "outputs": [
    {
     "data": {
      "text/plain": [
       "'n'"
      ]
     },
     "execution_count": 5,
     "metadata": {},
     "output_type": "execute_result"
    }
   ],
   "source": [
    "s1[-3]"
   ]
  },
  {
   "cell_type": "code",
   "execution_count": 6,
   "id": "05ee4fb0",
   "metadata": {},
   "outputs": [
    {
     "data": {
      "text/plain": [
       "' am i'"
      ]
     },
     "execution_count": 6,
     "metadata": {},
     "output_type": "execute_result"
    }
   ],
   "source": [
    "s1[-8:-3]"
   ]
  },
  {
   "cell_type": "code",
   "execution_count": 7,
   "id": "2b61798d",
   "metadata": {},
   "outputs": [
    {
     "data": {
      "text/plain": [
       "'Beryani'"
      ]
     },
     "execution_count": 7,
     "metadata": {},
     "output_type": "execute_result"
    }
   ],
   "source": [
    "food = \"Beryani\"\n",
    "food"
   ]
  },
  {
   "cell_type": "markdown",
   "id": "860beeb9",
   "metadata": {},
   "source": [
    "## String methods"
   ]
  },
  {
   "cell_type": "code",
   "execution_count": 8,
   "id": "0baf136d",
   "metadata": {},
   "outputs": [
    {
     "data": {
      "text/plain": [
       "7"
      ]
     },
     "execution_count": 8,
     "metadata": {},
     "output_type": "execute_result"
    }
   ],
   "source": [
    "len(food)"
   ]
  },
  {
   "cell_type": "code",
   "execution_count": 9,
   "id": "a6936e00",
   "metadata": {},
   "outputs": [
    {
     "data": {
      "text/plain": [
       "'Beryani'"
      ]
     },
     "execution_count": 9,
     "metadata": {},
     "output_type": "execute_result"
    }
   ],
   "source": [
    "food.capitalize()"
   ]
  },
  {
   "cell_type": "code",
   "execution_count": 10,
   "id": "71b673ab",
   "metadata": {},
   "outputs": [
    {
     "data": {
      "text/plain": [
       "'BERYANI'"
      ]
     },
     "execution_count": 10,
     "metadata": {},
     "output_type": "execute_result"
    }
   ],
   "source": [
    "food.upper()"
   ]
  },
  {
   "cell_type": "code",
   "execution_count": 11,
   "id": "0d859c84",
   "metadata": {},
   "outputs": [
    {
     "data": {
      "text/plain": [
       "'Beryami'"
      ]
     },
     "execution_count": 11,
     "metadata": {},
     "output_type": "execute_result"
    }
   ],
   "source": [
    "food.replace(\"n\", \"m\")"
   ]
  },
  {
   "cell_type": "code",
   "execution_count": 12,
   "id": "98b2b2c3",
   "metadata": {},
   "outputs": [
    {
     "data": {
      "text/plain": [
       "'Inam Ur Rehman with Asawera'"
      ]
     },
     "execution_count": 12,
     "metadata": {},
     "output_type": "execute_result"
    }
   ],
   "source": [
    "name = \"Inam Ur Rehman with Asawera\"\n",
    "name"
   ]
  },
  {
   "cell_type": "code",
   "execution_count": 13,
   "id": "4e548a15",
   "metadata": {},
   "outputs": [
    {
     "data": {
      "text/plain": [
       "2"
      ]
     },
     "execution_count": 13,
     "metadata": {},
     "output_type": "execute_result"
    }
   ],
   "source": [
    "name.count(\"m\")"
   ]
  },
  {
   "cell_type": "markdown",
   "id": "88aaee86",
   "metadata": {},
   "source": [
    "## find index number in a string"
   ]
  },
  {
   "cell_type": "code",
   "execution_count": 14,
   "id": "9fddd770",
   "metadata": {},
   "outputs": [],
   "source": [
    "name = \"Inam Ur Rehman with Asawera\""
   ]
  },
  {
   "cell_type": "code",
   "execution_count": 15,
   "id": "702e9892",
   "metadata": {},
   "outputs": [
    {
     "data": {
      "text/plain": [
       "6"
      ]
     },
     "execution_count": 15,
     "metadata": {},
     "output_type": "execute_result"
    }
   ],
   "source": [
    "name.find(\"r\")"
   ]
  },
  {
   "cell_type": "code",
   "execution_count": 16,
   "id": "acd45314",
   "metadata": {},
   "outputs": [
    {
     "data": {
      "text/plain": [
       "'I love, samosa, beryani, and karahi'"
      ]
     },
     "execution_count": 16,
     "metadata": {},
     "output_type": "execute_result"
    }
   ],
   "source": [
    "string1 = \"I love, samosa, beryani, and karahi\"\n",
    "string1\n"
   ]
  },
  {
   "cell_type": "code",
   "execution_count": 17,
   "id": "0c4dfd05",
   "metadata": {},
   "outputs": [
    {
     "data": {
      "text/plain": [
       "['I love', ' samosa', ' beryani', ' and karahi']"
      ]
     },
     "execution_count": 17,
     "metadata": {},
     "output_type": "execute_result"
    }
   ],
   "source": [
    "string1.split(\",\")\n"
   ]
  },
  {
   "cell_type": "code",
   "execution_count": 18,
   "id": "99f2d76c",
   "metadata": {},
   "outputs": [
    {
     "name": "stdout",
     "output_type": "stream",
     "text": [
      "enter your height1.7\n"
     ]
    }
   ],
   "source": [
    "height = input(\"enter your height\")\n"
   ]
  },
  {
   "cell_type": "code",
   "execution_count": 21,
   "id": "8d280c26",
   "metadata": {},
   "outputs": [],
   "source": [
    "height = float(height)"
   ]
  },
  {
   "cell_type": "code",
   "execution_count": 19,
   "id": "3c3c8399",
   "metadata": {},
   "outputs": [
    {
     "name": "stdout",
     "output_type": "stream",
     "text": [
      "enter your weight60\n"
     ]
    }
   ],
   "source": [
    "weight = input(\"enter your weight\")\n"
   ]
  },
  {
   "cell_type": "code",
   "execution_count": 22,
   "id": "78c03f53",
   "metadata": {},
   "outputs": [],
   "source": [
    "weight = float(weight)"
   ]
  },
  {
   "cell_type": "code",
   "execution_count": 23,
   "id": "6dda2fc4",
   "metadata": {},
   "outputs": [],
   "source": [
    "bmi= weight/height**2\n"
   ]
  },
  {
   "cell_type": "code",
   "execution_count": 26,
   "id": "c36902e2",
   "metadata": {},
   "outputs": [
    {
     "name": "stdout",
     "output_type": "stream",
     "text": [
      "Your bmi is = 20.761245674740486\n"
     ]
    }
   ],
   "source": [
    "print(\"Your bmi is =\", bmi)"
   ]
  },
  {
   "cell_type": "code",
   "execution_count": null,
   "id": "b4b5a52d",
   "metadata": {},
   "outputs": [],
   "source": []
  }
 ],
 "metadata": {
  "kernelspec": {
   "display_name": "Python 3 (ipykernel)",
   "language": "python",
   "name": "python3"
  },
  "language_info": {
   "codemirror_mode": {
    "name": "ipython",
    "version": 3
   },
   "file_extension": ".py",
   "mimetype": "text/x-python",
   "name": "python",
   "nbconvert_exporter": "python",
   "pygments_lexer": "ipython3",
   "version": "3.9.7"
  }
 },
 "nbformat": 4,
 "nbformat_minor": 5
}
