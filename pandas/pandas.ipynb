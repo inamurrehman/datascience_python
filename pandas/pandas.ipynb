{
 "cells": [
  {
   "cell_type": "markdown",
   "metadata": {},
   "source": [
    "# How to install \n"
   ]
  },
  {
   "cell_type": "markdown",
   "metadata": {},
   "source": [
    "# pip install pandas\n",
    "# pip install numpy"
   ]
  },
  {
   "cell_type": "code",
   "execution_count": 45,
   "metadata": {},
   "outputs": [
    {
     "data": {
      "text/plain": [
       "0    1.0\n",
       "1    2.0\n",
       "2    3.0\n",
       "3    NaN\n",
       "4    4.0\n",
       "5    5.0\n",
       "dtype: float64"
      ]
     },
     "execution_count": 45,
     "metadata": {},
     "output_type": "execute_result"
    }
   ],
   "source": [
    "import pandas as pd\n",
    "import numpy as np\n",
    "# object Creation\n",
    "s = pd.Series([1,2,3, np.nan,4,5])\n",
    "s"
   ]
  },
  {
   "cell_type": "code",
   "execution_count": 46,
   "metadata": {},
   "outputs": [
    {
     "data": {
      "text/plain": [
       "DatetimeIndex(['2022-01-03', '2022-01-04', '2022-01-05', '2022-01-06',\n",
       "               '2022-01-07', '2022-01-08'],\n",
       "              dtype='datetime64[ns]', freq='D')"
      ]
     },
     "execution_count": 46,
     "metadata": {},
     "output_type": "execute_result"
    }
   ],
   "source": [
    "dates = pd.date_range(\"20220103\", periods=6)\n",
    "dates"
   ]
  },
  {
   "cell_type": "code",
   "execution_count": 47,
   "metadata": {},
   "outputs": [
    {
     "data": {
      "text/html": [
       "<div>\n",
       "<style scoped>\n",
       "    .dataframe tbody tr th:only-of-type {\n",
       "        vertical-align: middle;\n",
       "    }\n",
       "\n",
       "    .dataframe tbody tr th {\n",
       "        vertical-align: top;\n",
       "    }\n",
       "\n",
       "    .dataframe thead th {\n",
       "        text-align: right;\n",
       "    }\n",
       "</style>\n",
       "<table border=\"1\" class=\"dataframe\">\n",
       "  <thead>\n",
       "    <tr style=\"text-align: right;\">\n",
       "      <th></th>\n",
       "      <th>W</th>\n",
       "      <th>X</th>\n",
       "      <th>Y</th>\n",
       "      <th>Z</th>\n",
       "    </tr>\n",
       "  </thead>\n",
       "  <tbody>\n",
       "    <tr>\n",
       "      <th>2022-01-03</th>\n",
       "      <td>-0.431413</td>\n",
       "      <td>0.111686</td>\n",
       "      <td>0.659032</td>\n",
       "      <td>-0.988077</td>\n",
       "    </tr>\n",
       "    <tr>\n",
       "      <th>2022-01-04</th>\n",
       "      <td>-1.194274</td>\n",
       "      <td>0.177681</td>\n",
       "      <td>0.291841</td>\n",
       "      <td>-0.317466</td>\n",
       "    </tr>\n",
       "    <tr>\n",
       "      <th>2022-01-05</th>\n",
       "      <td>-1.021455</td>\n",
       "      <td>-1.027052</td>\n",
       "      <td>-0.006381</td>\n",
       "      <td>-0.685677</td>\n",
       "    </tr>\n",
       "    <tr>\n",
       "      <th>2022-01-06</th>\n",
       "      <td>-0.655990</td>\n",
       "      <td>0.139328</td>\n",
       "      <td>0.106849</td>\n",
       "      <td>0.639662</td>\n",
       "    </tr>\n",
       "    <tr>\n",
       "      <th>2022-01-07</th>\n",
       "      <td>1.919268</td>\n",
       "      <td>0.254455</td>\n",
       "      <td>0.318627</td>\n",
       "      <td>-0.522071</td>\n",
       "    </tr>\n",
       "    <tr>\n",
       "      <th>2022-01-08</th>\n",
       "      <td>0.094651</td>\n",
       "      <td>0.348595</td>\n",
       "      <td>0.530647</td>\n",
       "      <td>0.302870</td>\n",
       "    </tr>\n",
       "  </tbody>\n",
       "</table>\n",
       "</div>"
      ],
      "text/plain": [
       "                   W         X         Y         Z\n",
       "2022-01-03 -0.431413  0.111686  0.659032 -0.988077\n",
       "2022-01-04 -1.194274  0.177681  0.291841 -0.317466\n",
       "2022-01-05 -1.021455 -1.027052 -0.006381 -0.685677\n",
       "2022-01-06 -0.655990  0.139328  0.106849  0.639662\n",
       "2022-01-07  1.919268  0.254455  0.318627 -0.522071\n",
       "2022-01-08  0.094651  0.348595  0.530647  0.302870"
      ]
     },
     "execution_count": 47,
     "metadata": {},
     "output_type": "execute_result"
    }
   ],
   "source": [
    "df = pd.DataFrame(np.random.randn(6, 4), index= dates, columns=list(\"WXYZ\"))\n",
    "df"
   ]
  },
  {
   "cell_type": "code",
   "execution_count": 48,
   "metadata": {},
   "outputs": [
    {
     "data": {
      "text/html": [
       "<div>\n",
       "<style scoped>\n",
       "    .dataframe tbody tr th:only-of-type {\n",
       "        vertical-align: middle;\n",
       "    }\n",
       "\n",
       "    .dataframe tbody tr th {\n",
       "        vertical-align: top;\n",
       "    }\n",
       "\n",
       "    .dataframe thead th {\n",
       "        text-align: right;\n",
       "    }\n",
       "</style>\n",
       "<table border=\"1\" class=\"dataframe\">\n",
       "  <thead>\n",
       "    <tr style=\"text-align: right;\">\n",
       "      <th></th>\n",
       "      <th>A</th>\n",
       "      <th>B</th>\n",
       "      <th>C</th>\n",
       "      <th>D</th>\n",
       "      <th>E</th>\n",
       "      <th>F</th>\n",
       "    </tr>\n",
       "  </thead>\n",
       "  <tbody>\n",
       "    <tr>\n",
       "      <th>0</th>\n",
       "      <td>2.5</td>\n",
       "      <td>2022-03-17</td>\n",
       "      <td>1.0</td>\n",
       "      <td>3</td>\n",
       "      <td>Inam</td>\n",
       "      <td>Students</td>\n",
       "    </tr>\n",
       "    <tr>\n",
       "      <th>1</th>\n",
       "      <td>2.5</td>\n",
       "      <td>2022-03-17</td>\n",
       "      <td>1.0</td>\n",
       "      <td>3</td>\n",
       "      <td>Rehman</td>\n",
       "      <td>Students</td>\n",
       "    </tr>\n",
       "    <tr>\n",
       "      <th>2</th>\n",
       "      <td>2.5</td>\n",
       "      <td>2022-03-17</td>\n",
       "      <td>1.0</td>\n",
       "      <td>3</td>\n",
       "      <td>Inam</td>\n",
       "      <td>Students</td>\n",
       "    </tr>\n",
       "    <tr>\n",
       "      <th>3</th>\n",
       "      <td>2.5</td>\n",
       "      <td>2022-03-17</td>\n",
       "      <td>1.0</td>\n",
       "      <td>3</td>\n",
       "      <td>Rehman</td>\n",
       "      <td>Students</td>\n",
       "    </tr>\n",
       "  </tbody>\n",
       "</table>\n",
       "</div>"
      ],
      "text/plain": [
       "     A          B    C  D       E         F\n",
       "0  2.5 2022-03-17  1.0  3    Inam  Students\n",
       "1  2.5 2022-03-17  1.0  3  Rehman  Students\n",
       "2  2.5 2022-03-17  1.0  3    Inam  Students\n",
       "3  2.5 2022-03-17  1.0  3  Rehman  Students"
      ]
     },
     "execution_count": 48,
     "metadata": {},
     "output_type": "execute_result"
    }
   ],
   "source": [
    "df2 = pd.DataFrame(\n",
    "    {\n",
    "        \"A\": 2.5,\n",
    "        \"B\": pd.Timestamp(\"20220317\"),\n",
    "        \"C\": pd.Series(1, index= list(range(4)), dtype= \"float32\"),\n",
    "        \"D\": np.array([3]*4, dtype= \"int32\"),\n",
    "        \"E\": pd.Categorical([\"Inam\", \"Rehman\", \"Inam\", \"Rehman\"]),\n",
    "        \"F\": \"Students\"\n",
    "    }\n",
    ")\n",
    "df2"
   ]
  },
  {
   "cell_type": "code",
   "execution_count": 49,
   "metadata": {},
   "outputs": [
    {
     "data": {
      "text/plain": [
       "A           float64\n",
       "B    datetime64[ns]\n",
       "C           float32\n",
       "D             int32\n",
       "E          category\n",
       "F            object\n",
       "dtype: object"
      ]
     },
     "execution_count": 49,
     "metadata": {},
     "output_type": "execute_result"
    }
   ],
   "source": [
    "df2.dtypes"
   ]
  },
  {
   "cell_type": "code",
   "execution_count": 50,
   "metadata": {},
   "outputs": [
    {
     "data": {
      "text/html": [
       "<div>\n",
       "<style scoped>\n",
       "    .dataframe tbody tr th:only-of-type {\n",
       "        vertical-align: middle;\n",
       "    }\n",
       "\n",
       "    .dataframe tbody tr th {\n",
       "        vertical-align: top;\n",
       "    }\n",
       "\n",
       "    .dataframe thead th {\n",
       "        text-align: right;\n",
       "    }\n",
       "</style>\n",
       "<table border=\"1\" class=\"dataframe\">\n",
       "  <thead>\n",
       "    <tr style=\"text-align: right;\">\n",
       "      <th></th>\n",
       "      <th>W</th>\n",
       "      <th>X</th>\n",
       "      <th>Y</th>\n",
       "      <th>Z</th>\n",
       "    </tr>\n",
       "  </thead>\n",
       "  <tbody>\n",
       "    <tr>\n",
       "      <th>2022-01-03</th>\n",
       "      <td>-0.431413</td>\n",
       "      <td>0.111686</td>\n",
       "      <td>0.659032</td>\n",
       "      <td>-0.988077</td>\n",
       "    </tr>\n",
       "    <tr>\n",
       "      <th>2022-01-04</th>\n",
       "      <td>-1.194274</td>\n",
       "      <td>0.177681</td>\n",
       "      <td>0.291841</td>\n",
       "      <td>-0.317466</td>\n",
       "    </tr>\n",
       "  </tbody>\n",
       "</table>\n",
       "</div>"
      ],
      "text/plain": [
       "                   W         X         Y         Z\n",
       "2022-01-03 -0.431413  0.111686  0.659032 -0.988077\n",
       "2022-01-04 -1.194274  0.177681  0.291841 -0.317466"
      ]
     },
     "execution_count": 50,
     "metadata": {},
     "output_type": "execute_result"
    }
   ],
   "source": [
    "df.head(2)"
   ]
  },
  {
   "cell_type": "code",
   "execution_count": 51,
   "metadata": {},
   "outputs": [
    {
     "data": {
      "text/html": [
       "<div>\n",
       "<style scoped>\n",
       "    .dataframe tbody tr th:only-of-type {\n",
       "        vertical-align: middle;\n",
       "    }\n",
       "\n",
       "    .dataframe tbody tr th {\n",
       "        vertical-align: top;\n",
       "    }\n",
       "\n",
       "    .dataframe thead th {\n",
       "        text-align: right;\n",
       "    }\n",
       "</style>\n",
       "<table border=\"1\" class=\"dataframe\">\n",
       "  <thead>\n",
       "    <tr style=\"text-align: right;\">\n",
       "      <th></th>\n",
       "      <th>W</th>\n",
       "      <th>X</th>\n",
       "      <th>Y</th>\n",
       "      <th>Z</th>\n",
       "    </tr>\n",
       "  </thead>\n",
       "  <tbody>\n",
       "    <tr>\n",
       "      <th>2022-01-07</th>\n",
       "      <td>1.919268</td>\n",
       "      <td>0.254455</td>\n",
       "      <td>0.318627</td>\n",
       "      <td>-0.522071</td>\n",
       "    </tr>\n",
       "    <tr>\n",
       "      <th>2022-01-08</th>\n",
       "      <td>0.094651</td>\n",
       "      <td>0.348595</td>\n",
       "      <td>0.530647</td>\n",
       "      <td>0.302870</td>\n",
       "    </tr>\n",
       "  </tbody>\n",
       "</table>\n",
       "</div>"
      ],
      "text/plain": [
       "                   W         X         Y         Z\n",
       "2022-01-07  1.919268  0.254455  0.318627 -0.522071\n",
       "2022-01-08  0.094651  0.348595  0.530647  0.302870"
      ]
     },
     "execution_count": 51,
     "metadata": {},
     "output_type": "execute_result"
    }
   ],
   "source": [
    "df.tail(2)"
   ]
  },
  {
   "cell_type": "code",
   "execution_count": 52,
   "metadata": {},
   "outputs": [
    {
     "data": {
      "text/plain": [
       "DatetimeIndex(['2022-01-03', '2022-01-04', '2022-01-05', '2022-01-06',\n",
       "               '2022-01-07', '2022-01-08'],\n",
       "              dtype='datetime64[ns]', freq='D')"
      ]
     },
     "execution_count": 52,
     "metadata": {},
     "output_type": "execute_result"
    }
   ],
   "source": [
    "df.index"
   ]
  },
  {
   "cell_type": "code",
   "execution_count": 53,
   "metadata": {},
   "outputs": [
    {
     "data": {
      "text/plain": [
       "Int64Index([0, 1, 2, 3], dtype='int64')"
      ]
     },
     "execution_count": 53,
     "metadata": {},
     "output_type": "execute_result"
    }
   ],
   "source": [
    "df2.index"
   ]
  },
  {
   "cell_type": "code",
   "execution_count": 54,
   "metadata": {},
   "outputs": [
    {
     "data": {
      "text/plain": [
       "array([[-0.43141315,  0.11168592,  0.65903214, -0.98807727],\n",
       "       [-1.1942737 ,  0.17768065,  0.29184085, -0.31746569],\n",
       "       [-1.02145511, -1.02705162, -0.00638111, -0.68567724],\n",
       "       [-0.65599031,  0.13932793,  0.1068485 ,  0.6396622 ],\n",
       "       [ 1.91926825,  0.25445461,  0.318627  , -0.52207084],\n",
       "       [ 0.09465105,  0.34859453,  0.53064664,  0.30286969]])"
      ]
     },
     "execution_count": 54,
     "metadata": {},
     "output_type": "execute_result"
    }
   ],
   "source": [
    "df.to_numpy()"
   ]
  },
  {
   "cell_type": "code",
   "execution_count": 55,
   "metadata": {},
   "outputs": [
    {
     "data": {
      "text/plain": [
       "array([[2.5, Timestamp('2022-03-17 00:00:00'), 1.0, 3, 'Inam',\n",
       "        'Students'],\n",
       "       [2.5, Timestamp('2022-03-17 00:00:00'), 1.0, 3, 'Rehman',\n",
       "        'Students'],\n",
       "       [2.5, Timestamp('2022-03-17 00:00:00'), 1.0, 3, 'Inam',\n",
       "        'Students'],\n",
       "       [2.5, Timestamp('2022-03-17 00:00:00'), 1.0, 3, 'Rehman',\n",
       "        'Students']], dtype=object)"
      ]
     },
     "execution_count": 55,
     "metadata": {},
     "output_type": "execute_result"
    }
   ],
   "source": [
    "df2.to_numpy()"
   ]
  },
  {
   "cell_type": "code",
   "execution_count": 56,
   "metadata": {},
   "outputs": [
    {
     "data": {
      "text/html": [
       "<div>\n",
       "<style scoped>\n",
       "    .dataframe tbody tr th:only-of-type {\n",
       "        vertical-align: middle;\n",
       "    }\n",
       "\n",
       "    .dataframe tbody tr th {\n",
       "        vertical-align: top;\n",
       "    }\n",
       "\n",
       "    .dataframe thead th {\n",
       "        text-align: right;\n",
       "    }\n",
       "</style>\n",
       "<table border=\"1\" class=\"dataframe\">\n",
       "  <thead>\n",
       "    <tr style=\"text-align: right;\">\n",
       "      <th></th>\n",
       "      <th>W</th>\n",
       "      <th>X</th>\n",
       "      <th>Y</th>\n",
       "      <th>Z</th>\n",
       "    </tr>\n",
       "  </thead>\n",
       "  <tbody>\n",
       "    <tr>\n",
       "      <th>count</th>\n",
       "      <td>6.000000</td>\n",
       "      <td>6.000000</td>\n",
       "      <td>6.000000</td>\n",
       "      <td>6.000000</td>\n",
       "    </tr>\n",
       "    <tr>\n",
       "      <th>mean</th>\n",
       "      <td>-0.214869</td>\n",
       "      <td>0.000782</td>\n",
       "      <td>0.316769</td>\n",
       "      <td>-0.261793</td>\n",
       "    </tr>\n",
       "    <tr>\n",
       "      <th>std</th>\n",
       "      <td>1.140319</td>\n",
       "      <td>0.510794</td>\n",
       "      <td>0.249802</td>\n",
       "      <td>0.617977</td>\n",
       "    </tr>\n",
       "    <tr>\n",
       "      <th>min</th>\n",
       "      <td>-1.194274</td>\n",
       "      <td>-1.027052</td>\n",
       "      <td>-0.006381</td>\n",
       "      <td>-0.988077</td>\n",
       "    </tr>\n",
       "    <tr>\n",
       "      <th>25%</th>\n",
       "      <td>-0.930089</td>\n",
       "      <td>0.118596</td>\n",
       "      <td>0.153097</td>\n",
       "      <td>-0.644776</td>\n",
       "    </tr>\n",
       "    <tr>\n",
       "      <th>50%</th>\n",
       "      <td>-0.543702</td>\n",
       "      <td>0.158504</td>\n",
       "      <td>0.305234</td>\n",
       "      <td>-0.419768</td>\n",
       "    </tr>\n",
       "    <tr>\n",
       "      <th>75%</th>\n",
       "      <td>-0.036865</td>\n",
       "      <td>0.235261</td>\n",
       "      <td>0.477642</td>\n",
       "      <td>0.147786</td>\n",
       "    </tr>\n",
       "    <tr>\n",
       "      <th>max</th>\n",
       "      <td>1.919268</td>\n",
       "      <td>0.348595</td>\n",
       "      <td>0.659032</td>\n",
       "      <td>0.639662</td>\n",
       "    </tr>\n",
       "  </tbody>\n",
       "</table>\n",
       "</div>"
      ],
      "text/plain": [
       "              W         X         Y         Z\n",
       "count  6.000000  6.000000  6.000000  6.000000\n",
       "mean  -0.214869  0.000782  0.316769 -0.261793\n",
       "std    1.140319  0.510794  0.249802  0.617977\n",
       "min   -1.194274 -1.027052 -0.006381 -0.988077\n",
       "25%   -0.930089  0.118596  0.153097 -0.644776\n",
       "50%   -0.543702  0.158504  0.305234 -0.419768\n",
       "75%   -0.036865  0.235261  0.477642  0.147786\n",
       "max    1.919268  0.348595  0.659032  0.639662"
      ]
     },
     "execution_count": 56,
     "metadata": {},
     "output_type": "execute_result"
    }
   ],
   "source": [
    "df.describe()"
   ]
  },
  {
   "cell_type": "code",
   "execution_count": 57,
   "metadata": {},
   "outputs": [
    {
     "data": {
      "text/html": [
       "<div>\n",
       "<style scoped>\n",
       "    .dataframe tbody tr th:only-of-type {\n",
       "        vertical-align: middle;\n",
       "    }\n",
       "\n",
       "    .dataframe tbody tr th {\n",
       "        vertical-align: top;\n",
       "    }\n",
       "\n",
       "    .dataframe thead th {\n",
       "        text-align: right;\n",
       "    }\n",
       "</style>\n",
       "<table border=\"1\" class=\"dataframe\">\n",
       "  <thead>\n",
       "    <tr style=\"text-align: right;\">\n",
       "      <th></th>\n",
       "      <th>0</th>\n",
       "      <th>1</th>\n",
       "      <th>2</th>\n",
       "      <th>3</th>\n",
       "    </tr>\n",
       "  </thead>\n",
       "  <tbody>\n",
       "    <tr>\n",
       "      <th>A</th>\n",
       "      <td>2.5</td>\n",
       "      <td>2.5</td>\n",
       "      <td>2.5</td>\n",
       "      <td>2.5</td>\n",
       "    </tr>\n",
       "    <tr>\n",
       "      <th>B</th>\n",
       "      <td>2022-03-17 00:00:00</td>\n",
       "      <td>2022-03-17 00:00:00</td>\n",
       "      <td>2022-03-17 00:00:00</td>\n",
       "      <td>2022-03-17 00:00:00</td>\n",
       "    </tr>\n",
       "    <tr>\n",
       "      <th>C</th>\n",
       "      <td>1.0</td>\n",
       "      <td>1.0</td>\n",
       "      <td>1.0</td>\n",
       "      <td>1.0</td>\n",
       "    </tr>\n",
       "    <tr>\n",
       "      <th>D</th>\n",
       "      <td>3</td>\n",
       "      <td>3</td>\n",
       "      <td>3</td>\n",
       "      <td>3</td>\n",
       "    </tr>\n",
       "    <tr>\n",
       "      <th>E</th>\n",
       "      <td>Inam</td>\n",
       "      <td>Rehman</td>\n",
       "      <td>Inam</td>\n",
       "      <td>Rehman</td>\n",
       "    </tr>\n",
       "    <tr>\n",
       "      <th>F</th>\n",
       "      <td>Students</td>\n",
       "      <td>Students</td>\n",
       "      <td>Students</td>\n",
       "      <td>Students</td>\n",
       "    </tr>\n",
       "  </tbody>\n",
       "</table>\n",
       "</div>"
      ],
      "text/plain": [
       "                     0                    1                    2  \\\n",
       "A                  2.5                  2.5                  2.5   \n",
       "B  2022-03-17 00:00:00  2022-03-17 00:00:00  2022-03-17 00:00:00   \n",
       "C                  1.0                  1.0                  1.0   \n",
       "D                    3                    3                    3   \n",
       "E                 Inam               Rehman                 Inam   \n",
       "F             Students             Students             Students   \n",
       "\n",
       "                     3  \n",
       "A                  2.5  \n",
       "B  2022-03-17 00:00:00  \n",
       "C                  1.0  \n",
       "D                    3  \n",
       "E               Rehman  \n",
       "F             Students  "
      ]
     },
     "execution_count": 57,
     "metadata": {},
     "output_type": "execute_result"
    }
   ],
   "source": [
    "df2.T"
   ]
  },
  {
   "cell_type": "code",
   "execution_count": 58,
   "metadata": {},
   "outputs": [
    {
     "data": {
      "text/html": [
       "<div>\n",
       "<style scoped>\n",
       "    .dataframe tbody tr th:only-of-type {\n",
       "        vertical-align: middle;\n",
       "    }\n",
       "\n",
       "    .dataframe tbody tr th {\n",
       "        vertical-align: top;\n",
       "    }\n",
       "\n",
       "    .dataframe thead th {\n",
       "        text-align: right;\n",
       "    }\n",
       "</style>\n",
       "<table border=\"1\" class=\"dataframe\">\n",
       "  <thead>\n",
       "    <tr style=\"text-align: right;\">\n",
       "      <th></th>\n",
       "      <th>Z</th>\n",
       "      <th>Y</th>\n",
       "      <th>X</th>\n",
       "      <th>W</th>\n",
       "    </tr>\n",
       "  </thead>\n",
       "  <tbody>\n",
       "    <tr>\n",
       "      <th>2022-01-03</th>\n",
       "      <td>-0.988077</td>\n",
       "      <td>0.659032</td>\n",
       "      <td>0.111686</td>\n",
       "      <td>-0.431413</td>\n",
       "    </tr>\n",
       "    <tr>\n",
       "      <th>2022-01-04</th>\n",
       "      <td>-0.317466</td>\n",
       "      <td>0.291841</td>\n",
       "      <td>0.177681</td>\n",
       "      <td>-1.194274</td>\n",
       "    </tr>\n",
       "    <tr>\n",
       "      <th>2022-01-05</th>\n",
       "      <td>-0.685677</td>\n",
       "      <td>-0.006381</td>\n",
       "      <td>-1.027052</td>\n",
       "      <td>-1.021455</td>\n",
       "    </tr>\n",
       "    <tr>\n",
       "      <th>2022-01-06</th>\n",
       "      <td>0.639662</td>\n",
       "      <td>0.106849</td>\n",
       "      <td>0.139328</td>\n",
       "      <td>-0.655990</td>\n",
       "    </tr>\n",
       "    <tr>\n",
       "      <th>2022-01-07</th>\n",
       "      <td>-0.522071</td>\n",
       "      <td>0.318627</td>\n",
       "      <td>0.254455</td>\n",
       "      <td>1.919268</td>\n",
       "    </tr>\n",
       "    <tr>\n",
       "      <th>2022-01-08</th>\n",
       "      <td>0.302870</td>\n",
       "      <td>0.530647</td>\n",
       "      <td>0.348595</td>\n",
       "      <td>0.094651</td>\n",
       "    </tr>\n",
       "  </tbody>\n",
       "</table>\n",
       "</div>"
      ],
      "text/plain": [
       "                   Z         Y         X         W\n",
       "2022-01-03 -0.988077  0.659032  0.111686 -0.431413\n",
       "2022-01-04 -0.317466  0.291841  0.177681 -1.194274\n",
       "2022-01-05 -0.685677 -0.006381 -1.027052 -1.021455\n",
       "2022-01-06  0.639662  0.106849  0.139328 -0.655990\n",
       "2022-01-07 -0.522071  0.318627  0.254455  1.919268\n",
       "2022-01-08  0.302870  0.530647  0.348595  0.094651"
      ]
     },
     "execution_count": 58,
     "metadata": {},
     "output_type": "execute_result"
    }
   ],
   "source": [
    "df.sort_index(axis=1, ascending=False)"
   ]
  },
  {
   "cell_type": "code",
   "execution_count": 59,
   "metadata": {},
   "outputs": [
    {
     "data": {
      "text/html": [
       "<div>\n",
       "<style scoped>\n",
       "    .dataframe tbody tr th:only-of-type {\n",
       "        vertical-align: middle;\n",
       "    }\n",
       "\n",
       "    .dataframe tbody tr th {\n",
       "        vertical-align: top;\n",
       "    }\n",
       "\n",
       "    .dataframe thead th {\n",
       "        text-align: right;\n",
       "    }\n",
       "</style>\n",
       "<table border=\"1\" class=\"dataframe\">\n",
       "  <thead>\n",
       "    <tr style=\"text-align: right;\">\n",
       "      <th></th>\n",
       "      <th>W</th>\n",
       "      <th>X</th>\n",
       "      <th>Y</th>\n",
       "      <th>Z</th>\n",
       "    </tr>\n",
       "  </thead>\n",
       "  <tbody>\n",
       "    <tr>\n",
       "      <th>2022-01-03</th>\n",
       "      <td>-0.431413</td>\n",
       "      <td>0.111686</td>\n",
       "      <td>0.659032</td>\n",
       "      <td>-0.988077</td>\n",
       "    </tr>\n",
       "    <tr>\n",
       "      <th>2022-01-04</th>\n",
       "      <td>-1.194274</td>\n",
       "      <td>0.177681</td>\n",
       "      <td>0.291841</td>\n",
       "      <td>-0.317466</td>\n",
       "    </tr>\n",
       "    <tr>\n",
       "      <th>2022-01-05</th>\n",
       "      <td>-1.021455</td>\n",
       "      <td>-1.027052</td>\n",
       "      <td>-0.006381</td>\n",
       "      <td>-0.685677</td>\n",
       "    </tr>\n",
       "    <tr>\n",
       "      <th>2022-01-06</th>\n",
       "      <td>-0.655990</td>\n",
       "      <td>0.139328</td>\n",
       "      <td>0.106849</td>\n",
       "      <td>0.639662</td>\n",
       "    </tr>\n",
       "    <tr>\n",
       "      <th>2022-01-07</th>\n",
       "      <td>1.919268</td>\n",
       "      <td>0.254455</td>\n",
       "      <td>0.318627</td>\n",
       "      <td>-0.522071</td>\n",
       "    </tr>\n",
       "    <tr>\n",
       "      <th>2022-01-08</th>\n",
       "      <td>0.094651</td>\n",
       "      <td>0.348595</td>\n",
       "      <td>0.530647</td>\n",
       "      <td>0.302870</td>\n",
       "    </tr>\n",
       "  </tbody>\n",
       "</table>\n",
       "</div>"
      ],
      "text/plain": [
       "                   W         X         Y         Z\n",
       "2022-01-03 -0.431413  0.111686  0.659032 -0.988077\n",
       "2022-01-04 -1.194274  0.177681  0.291841 -0.317466\n",
       "2022-01-05 -1.021455 -1.027052 -0.006381 -0.685677\n",
       "2022-01-06 -0.655990  0.139328  0.106849  0.639662\n",
       "2022-01-07  1.919268  0.254455  0.318627 -0.522071\n",
       "2022-01-08  0.094651  0.348595  0.530647  0.302870"
      ]
     },
     "execution_count": 59,
     "metadata": {},
     "output_type": "execute_result"
    }
   ],
   "source": [
    "df.sort_index(axis=1, ascending=True)"
   ]
  },
  {
   "cell_type": "code",
   "execution_count": 60,
   "metadata": {},
   "outputs": [
    {
     "data": {
      "text/html": [
       "<div>\n",
       "<style scoped>\n",
       "    .dataframe tbody tr th:only-of-type {\n",
       "        vertical-align: middle;\n",
       "    }\n",
       "\n",
       "    .dataframe tbody tr th {\n",
       "        vertical-align: top;\n",
       "    }\n",
       "\n",
       "    .dataframe thead th {\n",
       "        text-align: right;\n",
       "    }\n",
       "</style>\n",
       "<table border=\"1\" class=\"dataframe\">\n",
       "  <thead>\n",
       "    <tr style=\"text-align: right;\">\n",
       "      <th></th>\n",
       "      <th>W</th>\n",
       "      <th>X</th>\n",
       "      <th>Y</th>\n",
       "      <th>Z</th>\n",
       "    </tr>\n",
       "  </thead>\n",
       "  <tbody>\n",
       "    <tr>\n",
       "      <th>2022-01-05</th>\n",
       "      <td>-1.021455</td>\n",
       "      <td>-1.027052</td>\n",
       "      <td>-0.006381</td>\n",
       "      <td>-0.685677</td>\n",
       "    </tr>\n",
       "    <tr>\n",
       "      <th>2022-01-06</th>\n",
       "      <td>-0.655990</td>\n",
       "      <td>0.139328</td>\n",
       "      <td>0.106849</td>\n",
       "      <td>0.639662</td>\n",
       "    </tr>\n",
       "    <tr>\n",
       "      <th>2022-01-04</th>\n",
       "      <td>-1.194274</td>\n",
       "      <td>0.177681</td>\n",
       "      <td>0.291841</td>\n",
       "      <td>-0.317466</td>\n",
       "    </tr>\n",
       "    <tr>\n",
       "      <th>2022-01-07</th>\n",
       "      <td>1.919268</td>\n",
       "      <td>0.254455</td>\n",
       "      <td>0.318627</td>\n",
       "      <td>-0.522071</td>\n",
       "    </tr>\n",
       "    <tr>\n",
       "      <th>2022-01-08</th>\n",
       "      <td>0.094651</td>\n",
       "      <td>0.348595</td>\n",
       "      <td>0.530647</td>\n",
       "      <td>0.302870</td>\n",
       "    </tr>\n",
       "    <tr>\n",
       "      <th>2022-01-03</th>\n",
       "      <td>-0.431413</td>\n",
       "      <td>0.111686</td>\n",
       "      <td>0.659032</td>\n",
       "      <td>-0.988077</td>\n",
       "    </tr>\n",
       "  </tbody>\n",
       "</table>\n",
       "</div>"
      ],
      "text/plain": [
       "                   W         X         Y         Z\n",
       "2022-01-05 -1.021455 -1.027052 -0.006381 -0.685677\n",
       "2022-01-06 -0.655990  0.139328  0.106849  0.639662\n",
       "2022-01-04 -1.194274  0.177681  0.291841 -0.317466\n",
       "2022-01-07  1.919268  0.254455  0.318627 -0.522071\n",
       "2022-01-08  0.094651  0.348595  0.530647  0.302870\n",
       "2022-01-03 -0.431413  0.111686  0.659032 -0.988077"
      ]
     },
     "execution_count": 60,
     "metadata": {},
     "output_type": "execute_result"
    }
   ],
   "source": [
    "df.sort_values(by=\"Y\")"
   ]
  },
  {
   "cell_type": "code",
   "execution_count": 61,
   "metadata": {},
   "outputs": [
    {
     "data": {
      "text/plain": [
       "2022-01-03    0.111686\n",
       "2022-01-04    0.177681\n",
       "2022-01-05   -1.027052\n",
       "2022-01-06    0.139328\n",
       "2022-01-07    0.254455\n",
       "2022-01-08    0.348595\n",
       "Freq: D, Name: X, dtype: float64"
      ]
     },
     "execution_count": 61,
     "metadata": {},
     "output_type": "execute_result"
    }
   ],
   "source": [
    "df[\"X\"]"
   ]
  },
  {
   "cell_type": "code",
   "execution_count": 63,
   "metadata": {},
   "outputs": [
    {
     "data": {
      "text/plain": [
       "<bound method DataFrame.to_numpy of      A          B    C  D       E         F\n",
       "0  2.5 2022-03-17  1.0  3    Inam  Students\n",
       "1  2.5 2022-03-17  1.0  3  Rehman  Students\n",
       "2  2.5 2022-03-17  1.0  3    Inam  Students\n",
       "3  2.5 2022-03-17  1.0  3  Rehman  Students>"
      ]
     },
     "execution_count": 63,
     "metadata": {},
     "output_type": "execute_result"
    }
   ],
   "source": [
    "df2.to_numpy\n"
   ]
  },
  {
   "cell_type": "code",
   "execution_count": 64,
   "metadata": {},
   "outputs": [
    {
     "data": {
      "text/plain": [
       "<bound method DataFrame.to_numpy of                    W         X         Y         Z\n",
       "2022-01-03 -0.431413  0.111686  0.659032 -0.988077\n",
       "2022-01-04 -1.194274  0.177681  0.291841 -0.317466\n",
       "2022-01-05 -1.021455 -1.027052 -0.006381 -0.685677\n",
       "2022-01-06 -0.655990  0.139328  0.106849  0.639662\n",
       "2022-01-07  1.919268  0.254455  0.318627 -0.522071\n",
       "2022-01-08  0.094651  0.348595  0.530647  0.302870>"
      ]
     },
     "execution_count": 64,
     "metadata": {},
     "output_type": "execute_result"
    }
   ],
   "source": [
    "df.to_numpy "
   ]
  },
  {
   "cell_type": "code",
   "execution_count": 65,
   "metadata": {},
   "outputs": [
    {
     "data": {
      "text/plain": [
       "array([[-0.43141315,  0.11168592,  0.65903214, -0.98807727],\n",
       "       [-1.1942737 ,  0.17768065,  0.29184085, -0.31746569],\n",
       "       [-1.02145511, -1.02705162, -0.00638111, -0.68567724],\n",
       "       [-0.65599031,  0.13932793,  0.1068485 ,  0.6396622 ],\n",
       "       [ 1.91926825,  0.25445461,  0.318627  , -0.52207084],\n",
       "       [ 0.09465105,  0.34859453,  0.53064664,  0.30286969]])"
      ]
     },
     "execution_count": 65,
     "metadata": {},
     "output_type": "execute_result"
    }
   ],
   "source": [
    "df.to_numpy()"
   ]
  },
  {
   "cell_type": "code",
   "execution_count": null,
   "metadata": {},
   "outputs": [],
   "source": []
  }
 ],
 "metadata": {
  "interpreter": {
   "hash": "40867cd959d76660a67591d6360a2e3cab85dbbff168341d593f5ecae905257b"
  },
  "kernelspec": {
   "display_name": "Python 3.9.7 ('base')",
   "language": "python",
   "name": "python3"
  },
  "language_info": {
   "codemirror_mode": {
    "name": "ipython",
    "version": 3
   },
   "file_extension": ".py",
   "mimetype": "text/x-python",
   "name": "python",
   "nbconvert_exporter": "python",
   "pygments_lexer": "ipython3",
   "version": "3.9.7"
  },
  "orig_nbformat": 4
 },
 "nbformat": 4,
 "nbformat_minor": 2
}
