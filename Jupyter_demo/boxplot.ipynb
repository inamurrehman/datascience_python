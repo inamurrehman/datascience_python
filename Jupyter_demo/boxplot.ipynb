{
 "cells": [
  {
   "cell_type": "code",
   "execution_count": 2,
   "id": "05af1ee7",
   "metadata": {
    "scrolled": true
   },
   "outputs": [
    {
     "data": {
      "text/plain": [
       "<module 'seaborn' from 'D:\\\\anaconda1\\\\lib\\\\site-packages\\\\seaborn\\\\__init__.py'>"
      ]
     },
     "execution_count": 2,
     "metadata": {},
     "output_type": "execute_result"
    },
    {
     "data": {
      "image/png": "[encoded data removed]",
      "text/plain": [
       "<Figure size 432x288 with 1 Axes>"
      ]
     },
     "metadata": {},
     "output_type": "display_data"
    }
   ],
   "source": [
    "import seaborn as sns\n",
    "import numpy as np\n",
    "sns.set(style=\"whitegrid\")\n",
    "kashti=sns.load_dataset(\"titanic\")\n",
    "kashti= sns.r\n",
    "seaborn.barplot(x=\"class\", y= \"fare\", data=kashti)\n",
    "seaborn"
   ]
  },
  {
   "cell_type": "code",
   "execution_count": null,
   "id": "9c96de5a",
   "metadata": {},
   "outputs": [],
   "source": [
    "import seaborn as sns\n",
    "import pandas as pd\n",
    "import numpy as np\n",
    "tip=seaborn.load_dataset('titanic')\n",
    "tip.describe()\n",
    "tip"
   ]
  },
  {
   "cell_type": "code",
   "execution_count": null,
   "id": "3fb35935",
   "metadata": {
    "scrolled": false
   },
   "outputs": [],
   "source": [
    "import seaborn as sns\n",
    "import pandas as pd\n",
    "import numpy as np\n",
    "tip=seaborn.load_dataset('titanic')\n",
    "tip.describe()\n",
    "tip\n",
    "\n"
   ]
  },
  {
   "cell_type": "code",
   "execution_count": null,
   "id": "81b81b1b",
   "metadata": {
    "scrolled": false
   },
   "outputs": [],
   "source": [
    "import seaborn as sns\n",
    "import pandas as pd\n",
    "import numpy as np\n",
    "sns.set(style=\"whitegrid\")\n",
    "tip=sns.load_dataset('titanic')\n",
    "sns.boxplot(y=tip[\"age\"], x=tip[\"survived\"])\n"
   ]
  },
  {
   "cell_type": "code",
   "execution_count": null,
   "id": "65659746",
   "metadata": {
    "scrolled": true
   },
   "outputs": [],
   "source": [
    "import seaborn as sns\n",
    "import pandas as pd\n",
    "import numpy as np\n",
    "sns.set(style=\"whitegrid\")\n",
    "\n",
    "tip=sns.load_dataset('titanic')\n",
    "sns.boxplot(x=\"age\", y=\"alive\", hue =\"class\", data=tip)"
   ]
  },
  {
   "cell_type": "code",
   "execution_count": null,
   "id": "d00653ab",
   "metadata": {
    "scrolled": true
   },
   "outputs": [],
   "source": [
    "import seaborn as sns\n",
    "import pandas as pd\n",
    "import numpy as np\n",
    "sns.set(style=\"whitegrid\")\n",
    "tip=sns.load_dataset('titanic')\n",
    "sns.boxplot(x=\"age\", y=\"alive\", hue =\"class\", data=tip, palette=\"Set2\", dodge=True)"
   ]
  },
  {
   "cell_type": "code",
   "execution_count": null,
   "id": "ac89d019",
   "metadata": {
    "scrolled": true
   },
   "outputs": [],
   "source": [
    "import seaborn as sns\n",
    "sns.set(style=\"whitegrid\")\n",
    "tip=sns.load_dataset('titanic')\n",
    "tip\n",
    "sns.boxplot(y=\"age\", x=\"alive\", hue =\"class\", data=tip, saturation=1, color= \"#9810a8\")"
   ]
  },
  {
   "cell_type": "code",
   "execution_count": null,
   "id": "915e244a",
   "metadata": {
    "scrolled": true
   },
   "outputs": [],
   "source": [
    "import seaborn as sns\n",
    "import pandas as pd\n",
    "import numpy as np\n",
    "kashti=sns.load_dataset(\"titanic\")\n",
    "kashti.head()# shows first five rows of the dataset"
   ]
  },
  {
   "cell_type": "code",
   "execution_count": null,
   "id": "477f920a",
   "metadata": {
    "scrolled": true
   },
   "outputs": [],
   "source": [
    "p1=sns.boxplot(x=\"sex\", y=\"fare\", data=kashti)\n"
   ]
  },
  {
   "cell_type": "code",
   "execution_count": null,
   "id": "26db3e25",
   "metadata": {
    "scrolled": true
   },
   "outputs": [],
   "source": [
    "import seaborn as sns\n",
    "import pandas as pd\n",
    "import numpy as np\n",
    "kashti=sns.load_dataset(\"titanic\")\n",
    "kashti.head()# shows first five rows of the dataset\n",
    "p1=sns.boxplot(x=\"sex\", y=\"age\", showmeans= True, data=kashti)# showmean\n"
   ]
  },
  {
   "cell_type": "code",
   "execution_count": null,
   "id": "63c39831",
   "metadata": {},
   "outputs": [],
   "source": [
    "import seaborn as sns\n",
    "import pandas as pd\n",
    "import numpy as np\n",
    "kashti=sns.load_dataset(\"titanic\")\n",
    "kashti.head()# shows first five rows of the dataset\n",
    "p1=sns.boxplot(x=\"sex\", y=\"age\", \n",
    "               showmeans= True,\n",
    "               meanprops={\"marker\": \"+\",\n",
    "                         \"markersize\": \"12\",\n",
    "                         \"markeredgecolor\": \"red\"},               \n",
    "               data=kashti)# showmean"
   ]
  }
 ],
 "metadata": {
  "kernelspec": {
   "display_name": "Python 3 (ipykernel)",
   "language": "python",
   "name": "python3"
  },
  "language_info": {
   "codemirror_mode": {
    "name": "ipython",
    "version": 3
   },
   "file_extension": ".py",
   "mimetype": "text/x-python",
   "name": "python",
   "nbconvert_exporter": "python",
   "pygments_lexer": "ipython3",
   "version": "3.9.7"
  }
 },
 "nbformat": 4,
 "nbformat_minor": 5
}
